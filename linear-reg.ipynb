{
 "cells": [
  {
   "cell_type": "code",
   "execution_count": 15,
   "metadata": {},
   "outputs": [],
   "source": [
    "import pandas as pd\n",
    "import yfinance as yf\n",
    "import math\n",
    "import numpy as np"
   ]
  },
  {
   "cell_type": "code",
   "execution_count": 19,
   "metadata": {},
   "outputs": [
    {
     "data": {
      "application/vnd.microsoft.datawrangler.viewer.v0+json": {
       "columns": [
        {
         "name": "Datetime",
         "rawType": "datetime64[ns, America/New_York]",
         "type": "unknown"
        },
        {
         "name": "Open",
         "rawType": "float64",
         "type": "float"
        },
        {
         "name": "High",
         "rawType": "float64",
         "type": "float"
        },
        {
         "name": "Low",
         "rawType": "float64",
         "type": "float"
        },
        {
         "name": "Close",
         "rawType": "float64",
         "type": "float"
        },
        {
         "name": "Volume",
         "rawType": "int64",
         "type": "integer"
        },
        {
         "name": "Dividends",
         "rawType": "float64",
         "type": "float"
        },
        {
         "name": "Stock Splits",
         "rawType": "float64",
         "type": "float"
        }
       ],
       "conversionMethod": "pd.DataFrame",
       "ref": "f809b700-d7b3-404d-9332-0dab47ae77e6",
       "rows": [
        [
         "2025-03-14 09:30:00-04:00",
         "381.0350036621094",
         "381.57000732421875",
         "379.510009765625",
         "381.0350036621094",
         "877470",
         "0.0",
         "0.0"
        ],
        [
         "2025-03-14 09:31:00-04:00",
         "380.9700012207031",
         "381.79998779296875",
         "380.8500061035156",
         "380.9800109863281",
         "113092",
         "0.0",
         "0.0"
        ],
        [
         "2025-03-14 09:32:00-04:00",
         "381.04998779296875",
         "381.79998779296875",
         "380.8299865722656",
         "381.4949951171875",
         "81654",
         "0.0",
         "0.0"
        ],
        [
         "2025-03-14 09:33:00-04:00",
         "381.55340576171875",
         "382.6400146484375",
         "381.44000244140625",
         "382.4700012207031",
         "122978",
         "0.0",
         "0.0"
        ],
        [
         "2025-03-14 09:34:00-04:00",
         "382.3999938964844",
         "382.79840087890625",
         "382.1400146484375",
         "382.42999267578125",
         "79213",
         "0.0",
         "0.0"
        ]
       ],
       "shape": {
        "columns": 7,
        "rows": 5
       }
      },
      "text/html": [
       "<div>\n",
       "<style scoped>\n",
       "    .dataframe tbody tr th:only-of-type {\n",
       "        vertical-align: middle;\n",
       "    }\n",
       "\n",
       "    .dataframe tbody tr th {\n",
       "        vertical-align: top;\n",
       "    }\n",
       "\n",
       "    .dataframe thead th {\n",
       "        text-align: right;\n",
       "    }\n",
       "</style>\n",
       "<table border=\"1\" class=\"dataframe\">\n",
       "  <thead>\n",
       "    <tr style=\"text-align: right;\">\n",
       "      <th></th>\n",
       "      <th>Open</th>\n",
       "      <th>High</th>\n",
       "      <th>Low</th>\n",
       "      <th>Close</th>\n",
       "      <th>Volume</th>\n",
       "      <th>Dividends</th>\n",
       "      <th>Stock Splits</th>\n",
       "    </tr>\n",
       "    <tr>\n",
       "      <th>Datetime</th>\n",
       "      <th></th>\n",
       "      <th></th>\n",
       "      <th></th>\n",
       "      <th></th>\n",
       "      <th></th>\n",
       "      <th></th>\n",
       "      <th></th>\n",
       "    </tr>\n",
       "  </thead>\n",
       "  <tbody>\n",
       "    <tr>\n",
       "      <th>2025-03-14 09:30:00-04:00</th>\n",
       "      <td>381.035004</td>\n",
       "      <td>381.570007</td>\n",
       "      <td>379.510010</td>\n",
       "      <td>381.035004</td>\n",
       "      <td>877470</td>\n",
       "      <td>0.0</td>\n",
       "      <td>0.0</td>\n",
       "    </tr>\n",
       "    <tr>\n",
       "      <th>2025-03-14 09:31:00-04:00</th>\n",
       "      <td>380.970001</td>\n",
       "      <td>381.799988</td>\n",
       "      <td>380.850006</td>\n",
       "      <td>380.980011</td>\n",
       "      <td>113092</td>\n",
       "      <td>0.0</td>\n",
       "      <td>0.0</td>\n",
       "    </tr>\n",
       "    <tr>\n",
       "      <th>2025-03-14 09:32:00-04:00</th>\n",
       "      <td>381.049988</td>\n",
       "      <td>381.799988</td>\n",
       "      <td>380.829987</td>\n",
       "      <td>381.494995</td>\n",
       "      <td>81654</td>\n",
       "      <td>0.0</td>\n",
       "      <td>0.0</td>\n",
       "    </tr>\n",
       "    <tr>\n",
       "      <th>2025-03-14 09:33:00-04:00</th>\n",
       "      <td>381.553406</td>\n",
       "      <td>382.640015</td>\n",
       "      <td>381.440002</td>\n",
       "      <td>382.470001</td>\n",
       "      <td>122978</td>\n",
       "      <td>0.0</td>\n",
       "      <td>0.0</td>\n",
       "    </tr>\n",
       "    <tr>\n",
       "      <th>2025-03-14 09:34:00-04:00</th>\n",
       "      <td>382.399994</td>\n",
       "      <td>382.798401</td>\n",
       "      <td>382.140015</td>\n",
       "      <td>382.429993</td>\n",
       "      <td>79213</td>\n",
       "      <td>0.0</td>\n",
       "      <td>0.0</td>\n",
       "    </tr>\n",
       "  </tbody>\n",
       "</table>\n",
       "</div>"
      ],
      "text/plain": [
       "                                 Open        High         Low       Close  \\\n",
       "Datetime                                                                    \n",
       "2025-03-14 09:30:00-04:00  381.035004  381.570007  379.510010  381.035004   \n",
       "2025-03-14 09:31:00-04:00  380.970001  381.799988  380.850006  380.980011   \n",
       "2025-03-14 09:32:00-04:00  381.049988  381.799988  380.829987  381.494995   \n",
       "2025-03-14 09:33:00-04:00  381.553406  382.640015  381.440002  382.470001   \n",
       "2025-03-14 09:34:00-04:00  382.399994  382.798401  382.140015  382.429993   \n",
       "\n",
       "                           Volume  Dividends  Stock Splits  \n",
       "Datetime                                                    \n",
       "2025-03-14 09:30:00-04:00  877470        0.0           0.0  \n",
       "2025-03-14 09:31:00-04:00  113092        0.0           0.0  \n",
       "2025-03-14 09:32:00-04:00   81654        0.0           0.0  \n",
       "2025-03-14 09:33:00-04:00  122978        0.0           0.0  \n",
       "2025-03-14 09:34:00-04:00   79213        0.0           0.0  "
      ]
     },
     "execution_count": 19,
     "metadata": {},
     "output_type": "execute_result"
    }
   ],
   "source": [
    "df = yf.Ticker(\"MSFT\").history(period=\"1d\", interval=\"1m\")\n",
    "df.head()"
   ]
  },
  {
   "cell_type": "code",
   "execution_count": 20,
   "metadata": {},
   "outputs": [
    {
     "data": {
      "application/vnd.microsoft.datawrangler.viewer.v0+json": {
       "columns": [
        {
         "name": "Datetime",
         "rawType": "datetime64[ns, America/New_York]",
         "type": "unknown"
        },
        {
         "name": "Close",
         "rawType": "float64",
         "type": "float"
        },
        {
         "name": "H-L_pct",
         "rawType": "float64",
         "type": "float"
        },
        {
         "name": "O-C_pct",
         "rawType": "float64",
         "type": "float"
        },
        {
         "name": "Volume",
         "rawType": "int64",
         "type": "integer"
        }
       ],
       "conversionMethod": "pd.DataFrame",
       "ref": "abe24804-407a-48ce-9481-d33a411fe0c2",
       "rows": [
        [
         "2025-03-14 09:30:00-04:00",
         "381.0350036621094",
         "0.5406321043461129",
         "0.0",
         "877470"
        ],
        [
         "2025-03-14 09:31:00-04:00",
         "380.9800109863281",
         "0.2493521082625031",
         "0.0026274419489531286",
         "113092"
        ],
        [
         "2025-03-14 09:32:00-04:00",
         "381.4949951171875",
         "0.25426315760844004",
         "0.11678450032139363",
         "81654"
        ],
        [
         "2025-03-14 09:33:00-04:00",
         "382.4700012207031",
         "0.3137532886765638",
         "0.24022730373865187",
         "122978"
        ],
        [
         "2025-03-14 09:34:00-04:00",
         "382.42999267578125",
         "0.1721586285275801",
         "0.007844869188202881",
         "79213"
        ]
       ],
       "shape": {
        "columns": 4,
        "rows": 5
       }
      },
      "text/html": [
       "<div>\n",
       "<style scoped>\n",
       "    .dataframe tbody tr th:only-of-type {\n",
       "        vertical-align: middle;\n",
       "    }\n",
       "\n",
       "    .dataframe tbody tr th {\n",
       "        vertical-align: top;\n",
       "    }\n",
       "\n",
       "    .dataframe thead th {\n",
       "        text-align: right;\n",
       "    }\n",
       "</style>\n",
       "<table border=\"1\" class=\"dataframe\">\n",
       "  <thead>\n",
       "    <tr style=\"text-align: right;\">\n",
       "      <th></th>\n",
       "      <th>Close</th>\n",
       "      <th>H-L_pct</th>\n",
       "      <th>O-C_pct</th>\n",
       "      <th>Volume</th>\n",
       "    </tr>\n",
       "    <tr>\n",
       "      <th>Datetime</th>\n",
       "      <th></th>\n",
       "      <th></th>\n",
       "      <th></th>\n",
       "      <th></th>\n",
       "    </tr>\n",
       "  </thead>\n",
       "  <tbody>\n",
       "    <tr>\n",
       "      <th>2025-03-14 09:30:00-04:00</th>\n",
       "      <td>381.035004</td>\n",
       "      <td>0.540632</td>\n",
       "      <td>0.000000</td>\n",
       "      <td>877470</td>\n",
       "    </tr>\n",
       "    <tr>\n",
       "      <th>2025-03-14 09:31:00-04:00</th>\n",
       "      <td>380.980011</td>\n",
       "      <td>0.249352</td>\n",
       "      <td>0.002627</td>\n",
       "      <td>113092</td>\n",
       "    </tr>\n",
       "    <tr>\n",
       "      <th>2025-03-14 09:32:00-04:00</th>\n",
       "      <td>381.494995</td>\n",
       "      <td>0.254263</td>\n",
       "      <td>0.116785</td>\n",
       "      <td>81654</td>\n",
       "    </tr>\n",
       "    <tr>\n",
       "      <th>2025-03-14 09:33:00-04:00</th>\n",
       "      <td>382.470001</td>\n",
       "      <td>0.313753</td>\n",
       "      <td>0.240227</td>\n",
       "      <td>122978</td>\n",
       "    </tr>\n",
       "    <tr>\n",
       "      <th>2025-03-14 09:34:00-04:00</th>\n",
       "      <td>382.429993</td>\n",
       "      <td>0.172159</td>\n",
       "      <td>0.007845</td>\n",
       "      <td>79213</td>\n",
       "    </tr>\n",
       "  </tbody>\n",
       "</table>\n",
       "</div>"
      ],
      "text/plain": [
       "                                Close   H-L_pct   O-C_pct  Volume\n",
       "Datetime                                                         \n",
       "2025-03-14 09:30:00-04:00  381.035004  0.540632  0.000000  877470\n",
       "2025-03-14 09:31:00-04:00  380.980011  0.249352  0.002627  113092\n",
       "2025-03-14 09:32:00-04:00  381.494995  0.254263  0.116785   81654\n",
       "2025-03-14 09:33:00-04:00  382.470001  0.313753  0.240227  122978\n",
       "2025-03-14 09:34:00-04:00  382.429993  0.172159  0.007845   79213"
      ]
     },
     "execution_count": 20,
     "metadata": {},
     "output_type": "execute_result"
    }
   ],
   "source": [
    "df = df[['Open', 'High', 'Low', 'Close', 'Volume']]\n",
    "df['H-L_pct'] = (df['High'] - df['Low'])/df['Close']*100\n",
    "df['O-C_pct'] = (df['Close'] - df['Open'])/df['Open']*100\n",
    "df= df[['Close', 'H-L_pct', 'O-C_pct', 'Volume']]\n",
    "df.head()"
   ]
  },
  {
   "cell_type": "code",
   "execution_count": 21,
   "metadata": {},
   "outputs": [],
   "source": [
    "forecast_col = 'Close'\n",
    "df.fillna(value=-99999, inplace=True)"
   ]
  },
  {
   "cell_type": "code",
   "execution_count": 22,
   "metadata": {},
   "outputs": [],
   "source": [
    "forecast_out = int(math.ceil(0.01*len(df)))"
   ]
  },
  {
   "cell_type": "code",
   "execution_count": null,
   "metadata": {},
   "outputs": [],
   "source": []
  }
 ],
 "metadata": {
  "kernelspec": {
   "display_name": ".venv",
   "language": "python",
   "name": "python3"
  },
  "language_info": {
   "codemirror_mode": {
    "name": "ipython",
    "version": 3
   },
   "file_extension": ".py",
   "mimetype": "text/x-python",
   "name": "python",
   "nbconvert_exporter": "python",
   "pygments_lexer": "ipython3",
   "version": "3.11.8"
  }
 },
 "nbformat": 4,
 "nbformat_minor": 2
}

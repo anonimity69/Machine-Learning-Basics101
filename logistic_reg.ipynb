{
 "cells": [
  {
   "cell_type": "markdown",
   "metadata": {},
   "source": [
    "# Logistic Regression"
   ]
  },
  {
   "cell_type": "code",
   "execution_count": 14,
   "metadata": {},
   "outputs": [],
   "source": [
    "import numpy as np\n",
    "import matplotlib.pyplot as plt\n",
    "from sklearn.datasets import make_blobs\n",
    "from sklearn.metrics import classification_report\n",
    "import pandas as pd"
   ]
  },
  {
   "cell_type": "code",
   "execution_count": 15,
   "metadata": {},
   "outputs": [],
   "source": [
    "class LogisticRegression:\n",
    "    def __init__(self, X, learning_rate=0.1, num_iters=10000):\n",
    "        self.lr = learning_rate\n",
    "        self.num_iters = num_iters\n",
    "\n",
    "        # m for #training_examples, n for #features\n",
    "        self.m, self.n = X.shape\n",
    "\n",
    "    def train(self, X, y):\n",
    "        # init weights\n",
    "        self.weights = np.zeros((self.n, 1))\n",
    "        self.bias = 0\n",
    "\n",
    "        for it in range(self.num_iters + 1):\n",
    "            # calculate hypothesis\n",
    "            y_predict = self.sigmoid(np.dot(X, self.weights) + self.bias)\n",
    "\n",
    "            # calculate cost\n",
    "            cost = (\n",
    "                -1\n",
    "                / self.m\n",
    "                * np.sum(y * np.log(y_predict) + (1 - y) * np.log(1 - y_predict))\n",
    "            )\n",
    "\n",
    "            # back prop / gradient calculations\n",
    "            dw = 1 / self.m * np.dot(X.T, (y_predict - y))\n",
    "            db = 1 / self.m * np.sum(y_predict - y)\n",
    "\n",
    "            # gradient descent update step\n",
    "            self.weights -= self.lr * dw\n",
    "            self.bias -= self.lr * db\n",
    "\n",
    "            # print cost sometimes\n",
    "            if it % 1000 == 0:\n",
    "                print(f\"Cost after iteration {it}: {cost}\")\n",
    "\n",
    "        return self.weights, self.bias\n",
    "\n",
    "    def predict(self, X):\n",
    "        y_predict = self.sigmoid(np.dot(X, self.weights) + self.bias)\n",
    "        y_predict_labels = y_predict > 0.5\n",
    "\n",
    "        return y_predict_labels\n",
    "\n",
    "    def sigmoid(self, z):\n",
    "        return 1 / (1 + np.exp(-z))"
   ]
  },
  {
   "cell_type": "code",
   "execution_count": 16,
   "metadata": {},
   "outputs": [
    {
     "name": "stdout",
     "output_type": "stream",
     "text": [
      "Cost after iteration 0: 0.6931471805599454\n",
      "Cost after iteration 1000: 0.0011600933459921785\n",
      "Cost after iteration 2000: 0.0006491300880665668\n",
      "Cost after iteration 3000: 0.000462485964887221\n",
      "Cost after iteration 4000: 0.0003635915165060212\n",
      "Cost after iteration 5000: 0.0003016459230941666\n",
      "Cost after iteration 6000: 0.00025890699961499065\n",
      "Cost after iteration 7000: 0.00022749458542860117\n",
      "Cost after iteration 8000: 0.00020335181473262736\n",
      "Cost after iteration 9000: 0.0001841682130989886\n",
      "Cost after iteration 10000: 0.00016852716747729746\n",
      "Accuracy: 1.0\n"
     ]
    }
   ],
   "source": [
    "np.random.seed(1)\n",
    "X, y = make_blobs(n_samples=1000, centers=2)\n",
    "y = y[:, np.newaxis]\n",
    "\n",
    "logreg = LogisticRegression(X)\n",
    "w, b = logreg.train(X, y)\n",
    "y_predict = logreg.predict(X)\n",
    "\n",
    "print(f\"Accuracy: {np.sum(y==y_predict)/X.shape[0]}\")"
   ]
  },
  {
   "cell_type": "code",
   "execution_count": null,
   "metadata": {},
   "outputs": [],
   "source": []
  }
 ],
 "metadata": {
  "kernelspec": {
   "display_name": ".venv",
   "language": "python",
   "name": "python3"
  },
  "language_info": {
   "codemirror_mode": {
    "name": "ipython",
    "version": 3
   },
   "file_extension": ".py",
   "mimetype": "text/x-python",
   "name": "python",
   "nbconvert_exporter": "python",
   "pygments_lexer": "ipython3",
   "version": "3.11.8"
  }
 },
 "nbformat": 4,
 "nbformat_minor": 2
}
